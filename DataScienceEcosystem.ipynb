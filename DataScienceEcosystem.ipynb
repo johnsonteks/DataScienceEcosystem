{
  "metadata": {
    "kernelspec": {
      "name": "python",
      "display_name": "Python (Pyodide)",
      "language": "python"
    },
    "language_info": {
      "codemirror_mode": {
        "name": "python",
        "version": 3
      },
      "file_extension": ".py",
      "mimetype": "text/x-python",
      "name": "python",
      "nbconvert_exporter": "python",
      "pygments_lexer": "ipython3",
      "version": "3.8"
    }
  },
  "nbformat_minor": 5,
  "nbformat": 4,
  "cells": [
    {
      "id": "7de8242a-b7aa-4ae5-ae89-2b15cbffa9f9",
      "cell_type": "markdown",
      "source": "# Data Science Tools and Ecosystem",
      "metadata": {}
    },
    {
      "id": "fc478850-a0a7-411a-a020-4dbd3792a381",
      "cell_type": "markdown",
      "source": "In this notebook, Data Science Tools and Ecosystem are summarized.",
      "metadata": {}
    },
    {
      "id": "305aab85-8eb8-4692-ae10-00bec920277a",
      "cell_type": "markdown",
      "source": "Some of the popular languages that Data Scientists use are:\n\n1. Python\n2. R\n3. SQL\n4. Julia",
      "metadata": {}
    },
    {
      "id": "7b06c9c4-3757-493f-a37b-4a0fc98f900f",
      "cell_type": "markdown",
      "source": "Some of the commonly used libraries used by Data Scientists include:\n\n1. Pandas\n2. NumPy\n3. TensorFlow\n4. Scikit-learn",
      "metadata": {}
    },
    {
      "id": "4c11d892-7a1c-4072-bd03-5e8595d9f664",
      "cell_type": "markdown",
      "source": "| Data Science Tools |\n|--------------------|\n| Jupyter Notebook  |\n| RStudio           |\n| Orange            |",
      "metadata": {}
    },
    {
      "id": "f0d90cd2-938c-459a-b340-137cbad279af",
      "cell_type": "markdown",
      "source": "### Below are a few examples of evaluating arithmetic expressions in Python.",
      "metadata": {}
    },
    {
      "id": "350a1248-ad37-4d77-bdb8-318e06d2ffc7",
      "cell_type": "code",
      "source": "(3*4)+5",
      "metadata": {
        "trusted": true
      },
      "outputs": [
        {
          "execution_count": 7,
          "output_type": "execute_result",
          "data": {
            "text/plain": "17"
          },
          "metadata": {}
        }
      ],
      "execution_count": 7
    },
    {
      "id": "ac215461-7845-48d1-823b-c51fccbc5f8d",
      "cell_type": "code",
      "source": "200/60",
      "metadata": {
        "trusted": true
      },
      "outputs": [
        {
          "execution_count": 8,
          "output_type": "execute_result",
          "data": {
            "text/plain": "3.3333333333333335"
          },
          "metadata": {}
        }
      ],
      "execution_count": 8
    },
    {
      "id": "d9d3c32a-b7a8-4d33-9439-33b23929004a",
      "cell_type": "markdown",
      "source": "**Objectives:**\n- List popular languages for Data Science.\n- Identify commonly used Data Science libraries.\n- Understand common development tools in Data Science.\n- Perform basic arithmetic operations in Python.",
      "metadata": {}
    },
    {
      "id": "c00bc67c-f0f8-4071-abbe-870f93fab469",
      "cell_type": "markdown",
      "source": "## Author  \nJohnson Gerald Anderson Teks",
      "metadata": {}
    }
  ]
}